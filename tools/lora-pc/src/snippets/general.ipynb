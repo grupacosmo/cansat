{
 "cells": [
  {
   "attachments": {},
   "cell_type": "markdown",
   "metadata": {},
   "source": [
    "Przykłady komunikacji szeregowej w Pythonie\n",
    "Komunikacja szeregowa jest powszechnie stosowanym sposobem przesyłania danych między urządzeniami. W Pythonie możemy używać biblioteki pySerial do obsługi komunikacji szeregowej. Poniżej przedstawiam kilka przykładów, które pokazują, jak używać pySerial do komunikacji szeregowej w Pythonie.\n",
    "\n",
    "Przykład 1: Odczyt danych z portu szeregowego\n",
    "Poniżej znajduje się przykład kodu, który odczytuje dane z portu szeregowego."
   ]
  },
  {
   "cell_type": "code",
   "execution_count": null,
   "metadata": {},
   "outputs": [],
   "source": [
    "import serial\n",
    "\n",
    "# Inicjalizacja portu szeregowego\n",
    "port = serial.Serial('/dev/ttyUSB0', 9600, timeout=1)\n",
    "\n",
    "while True:\n",
    "    dane = port.readline().decode().strip()\n",
    "    if dane:\n",
    "        print(\"Odczytano dane:\", dane)\n"
   ]
  },
  {
   "attachments": {},
   "cell_type": "markdown",
   "metadata": {},
   "source": [
    "W tym przykładzie używamy funkcji serial.Serial() do inicjalizacji portu szeregowego. Następnie w pętli nieskończonej odczytujemy dane z portu szeregowego za pomocą funkcji port.readline(). Odczytane dane są następnie dekodowane z formatu bajtowego na tekst i wyświetlane na konsoli.\n",
    "\n",
    "Przykład 2: Komunikacja dwukierunkowa z urządzeniem szeregowym\n",
    "Poniżej znajduje się przykład kodu, który demonstruje komunikację dwukierunkową z urządzeniem szeregowym."
   ]
  },
  {
   "cell_type": "code",
   "execution_count": null,
   "metadata": {},
   "outputs": [],
   "source": [
    "import serial\n",
    "\n",
    "# Inicjalizacja portu szeregowego\n",
    "port = serial.Serial('/dev/ttyUSB0', 9600, timeout=1)\n",
    "\n",
    "# Wysyłanie danych do urządzenia\n",
    "port.write(b'Hello World')\n",
    "\n",
    "# Odczytywanie danych z urządzenia\n",
    "odczytane_dane = port.readline().decode().strip()\n",
    "print(\"Odczytane dane:\", odczytane_dane)\n"
   ]
  },
  {
   "attachments": {},
   "cell_type": "markdown",
   "metadata": {},
   "source": [
    "W tym przykładzie po inicjalizacji portu szeregowego, wysyłamy dane do urządzenia za pomocą funkcji port.write(). Następnie odczytujemy dane z urządzenia za pomocą funkcji port.readline() i wyświetlamy je na konsoli.\n",
    "\n",
    "Przykład 3: Asynchroniczne odczytywanie danych z portu szeregowego\n",
    "Poniżej znajduje się przykład kodu, który demonstruje asynchroniczne odczytywanie danych z portu szeregowego przy użyciu wątków."
   ]
  },
  {
   "cell_type": "code",
   "execution_count": null,
   "metadata": {},
   "outputs": [],
   "source": [
    "import serial\n",
    "import threading\n",
    "\n",
    "# Funkcja odczytująca dane z portu szeregowego i wyświetlająca je na bieżąco\n",
    "def odczytuj_dane(port):\n",
    "    while True:\n",
    "        dane = port.readline().decode().strip()\n",
    "        if dane:\n",
    "            print(\"Odczytano dane:\", dane)\n",
    "\n",
    "# Inicjalizacja portu szeregowego\n",
    "port = serial.Serial('/dev/ttyUSB0', 9600, timeout=1)\n",
    "\n",
    "# Inicjalizacja wątku do odczytywania danych\n",
    "watek_odczytu = threading.Thread(target=odczytuj_dane, args=(port,))\n",
    "watek_odczytu.start()\n",
    "\n",
    "# Główna pętla programu\n",
    "while True:\n",
    "    # Tutaj możesz wykonywać inne operacje, które nie blokują wątku odczytu\n",
    "    # np. przetwarzanie danych, wysyłanie poleceń do urządzenia, itp.\n",
    "    # ...\n",
    "\n",
    "    # Przykład: Wysłanie komendy do urządzenia\n",
    "    port.write(b'Komenda')\n",
    "\n",
    "    # Przykład: Odczytanie danych z użytkownika i wysłanie ich do urządzenia\n",
    "    dane = input(\"Wpisz dane: \")\n",
    "    port.write(dane.encode())\n",
    "\n",
    "    # Przykład: Zakończenie programu po wpisaniu 'q'\n",
    "    if dane.lower() == 'q':\n",
    "        break\n"
   ]
  },
  {
   "attachments": {},
   "cell_type": "markdown",
   "metadata": {},
   "source": [
    "W tym przykładzie używamy funkcji threading.Thread() do utworzenia wątku watek_odczytu, który odczytuje dane z portu szeregowego w pętli nieskończonej i wyświetla je na bieżąco. W głównej pętli programu możemy wykonywać inne operacje, które nie blokują wątku odczytu, np. przetwarzanie danych, wysyłanie poleceń do urządzenia, itp.\n",
    "\n",
    "Przykłady te pokazują podstawowe techniki komunikacji szeregowej w Pythonie przy użyciu biblioteki pySerial. Oczywiście, w zależności od potrzeb, można dostosować te przykłady do konkretnych wymagań i dodawać własną logikę programu.\n",
    "\n",
    "Mam nadzieję, że te przykłady są pomocne. Jeśli masz jakiekolwiek pytania, chętnie na nie odpowiem!"
   ]
  }
 ],
 "metadata": {
  "language_info": {
   "name": "python"
  },
  "orig_nbformat": 4
 },
 "nbformat": 4,
 "nbformat_minor": 2
}
