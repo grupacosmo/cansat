{
 "cells": [
  {
   "attachments": {},
   "cell_type": "markdown",
   "metadata": {},
   "source": [
    "Oczywiście! Poniżej przedstawiam przykład asynchronicznego odczytywania i przetwarzania danych z portu szeregowego przy użyciu biblioteki pyserial-asyncio:"
   ]
  },
  {
   "cell_type": "code",
   "execution_count": null,
   "metadata": {},
   "outputs": [],
   "source": [
    "import asyncio\n",
    "import serial_asyncio\n",
    "\n",
    "\n",
    "async def odczytuj_dane(ser):\n",
    "    while True:\n",
    "        dane = await ser.readline()\n",
    "        dane = dane.decode().strip()\n",
    "        if dane:\n",
    "            print(\"Odczytano dane:\", dane)\n",
    "\n",
    "async def przetwarzaj_dane():\n",
    "    while True:\n",
    "        # Tutaj umieść logikę przetwarzania danych\n",
    "        await asyncio.sleep(1)  # Przykładowe opóźnienie\n",
    "\n",
    "async def main():\n",
    "    loop = asyncio.get_running_loop()\n",
    "\n",
    "    # Inicjalizacja portu szeregowego\n",
    "    ser = await serial_asyncio.open_serial_connection(url='/dev/ttyUSB0', baudrate=9600)\n",
    "\n",
    "    # Uruchomienie zadania odczytu danych\n",
    "    loop.create_task(odczytuj_dane(ser[0]))\n",
    "\n",
    "    # Uruchomienie zadania przetwarzania danych\n",
    "    loop.create_task(przetwarzaj_dane())\n",
    "\n",
    "    # Główna pętla programu\n",
    "    while True:\n",
    "        await asyncio.sleep(1)  # Możesz wykonywać inne operacje w pętli\n",
    "\n",
    "asyncio.run(main())\n"
   ]
  },
  {
   "attachments": {},
   "cell_type": "markdown",
   "metadata": {},
   "source": [
    "W tym przykładzie używamy biblioteki pyserial-asyncio do asynchronicznego odczytywania danych z portu szeregowego. Funkcja odczytuj_dane() jest odpowiedzialna za odczyt danych z portu i wyświetlanie ich na bieżąco. Funkcja przetwarzaj_dane() to przykładowa funkcja przetwarzająca dane, którą można dostosować do swoich potrzeb.\n",
    "\n",
    "W funkcji main() tworzymy pętlę asyncio, inicjalizujemy port szeregowy przy użyciu serial_asyncio.open_serial_connection() i uruchamiamy zadania odczytu danych i przetwarzania danych przy użyciu loop.create_task(). Następnie w głównej pętli programu można wykonywać inne operacje.\n",
    "\n",
    "Dzięki użyciu biblioteki pyserial-asyncio odczytywanie danych nie blokuje przetwarzania danych, ponieważ oba zadania działają asynchronicznie.\n",
    "\n",
    "Mam nadzieję, że ten przykład jest przydatny! Jeśli masz jakiekolwiek pytania, służę pomocą."
   ]
  },
  {
   "attachments": {},
   "cell_type": "markdown",
   "metadata": {},
   "source": [
    "Oczywiście! Poniżej przedstawiam zmodyfikowany przykład, w którym funkcja, która odczytuje dane, buforuje je, a funkcja przetwarzająca zapisuje te dane z bufora do pliku:"
   ]
  },
  {
   "cell_type": "code",
   "execution_count": null,
   "metadata": {},
   "outputs": [],
   "source": [
    "import asyncio\n",
    "import serial_asyncio\n",
    "\n",
    "\n",
    "async def odczytuj_dane(ser, bufor):\n",
    "    while True:\n",
    "        dane = await ser.readline()\n",
    "        dane = dane.decode().strip()\n",
    "        if dane:\n",
    "            bufor.append(dane)\n",
    "\n",
    "async def przetwarzaj_dane(bufor, plik):\n",
    "    while True:\n",
    "        await asyncio.sleep(1)  # Przykładowe opóźnienie\n",
    "        if bufor:\n",
    "            dane = bufor.pop(0)\n",
    "            plik.write(dane + '\\n')\n",
    "            plik.flush()  # Wymuszenie zapisu do pliku\n",
    "\n",
    "async def main():\n",
    "    loop = asyncio.get_running_loop()\n",
    "\n",
    "    # Inicjalizacja portu szeregowego\n",
    "    ser = await serial_asyncio.open_serial_connection(url='/dev/ttyUSB0', baudrate=9600)\n",
    "\n",
    "    # Inicjalizacja bufora danych i pliku\n",
    "    bufor = []\n",
    "    plik = open('dane.txt', 'a')\n",
    "\n",
    "    # Uruchomienie zadania odczytu danych\n",
    "    loop.create_task(odczytuj_dane(ser[0], bufor))\n",
    "\n",
    "    # Uruchomienie zadania przetwarzania danych\n",
    "    loop.create_task(przetwarzaj_dane(bufor, plik))\n",
    "\n",
    "    # Główna pętla programu\n",
    "    while True:\n",
    "        await asyncio.sleep(1)  # Możesz wykonywać inne operacje w pętli\n",
    "\n",
    "asyncio.run(main())\n"
   ]
  },
  {
   "attachments": {},
   "cell_type": "markdown",
   "metadata": {},
   "source": [
    "W tym zmodyfikowanym przykładzie dodaliśmy bufor danych bufor, który przechowuje odczytane dane z portu szeregowego. Funkcja odczytuj_dane() odczytuje dane z portu i dodaje je do bufora. Funkcja przetwarzaj_dane() sprawdza, czy bufor zawiera dane, a następnie zapisuje je do pliku.\n",
    "\n",
    "W funkcji main() inicjalizujemy bufor danych oraz otwieramy plik w trybie 'a' (dodawanie do istniejącego pliku lub tworzenie nowego). Następnie uruchamiamy zadania odczytu danych i przetwarzania danych, przekazując im odpowiednie argumenty.\n",
    "\n",
    "Odczytane dane są dodawane do bufora, a następnie przetwarzane przez funkcję przetwarzaj_dane(), która zapisuje je do pliku za pomocą plik.write(). Funkcja plik.flush() jest wywoływana, aby wymusić zapis danych do pliku.\n",
    "\n",
    "Mam nadzieję, że ten zmodyfikowany przykład jest przydatny! Jeśli masz jakiekolwiek pytania, służę pomocą."
   ]
  }
 ],
 "metadata": {
  "language_info": {
   "name": "python"
  },
  "orig_nbformat": 4
 },
 "nbformat": 4,
 "nbformat_minor": 2
}
