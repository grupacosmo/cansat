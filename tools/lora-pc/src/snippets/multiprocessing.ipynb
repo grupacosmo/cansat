{
 "cells": [
  {
   "attachments": {},
   "cell_type": "markdown",
   "metadata": {},
   "source": [
    "# Multiprocessing\n",
    "\n",
    "Aby wykorzystać multiprocessing w Pythonie do równoczesnego nasłuchiwania danych z urządzenia szeregowego i przekazywania ich między procesami bez blokowania pierwszego procesu, możemy skorzystać z modułu `multiprocessing.Queue`. Ten moduł umożliwia bezpieczne przekazywanie danych między procesami"
   ]
  },
  {
   "cell_type": "code",
   "execution_count": null,
   "metadata": {},
   "outputs": [],
   "source": [
    "import serial\n",
    "import multiprocessing\n",
    "\n",
    "# Funkcja odbierająca dane z portu szeregowego i umieszczająca je w kolejce\n",
    "def odbierz_dane(port, kolejka):\n",
    "    while True:\n",
    "        dane = port.readline().decode().strip()\n",
    "        if dane:\n",
    "            kolejka.put(dane)\n",
    "\n",
    "# Funkcja przetwarzająca dane odebrane z kolejki\n",
    "def przetwarzaj_dane(kolejka):\n",
    "    while True:\n",
    "        if not kolejka.empty():\n",
    "            dane = kolejka.get()\n",
    "            # Tutaj możesz wykonywać przetwarzanie na danych\n",
    "            przetworzone_dane = dane.upper()\n",
    "            print(\"Przetworzone dane:\", przetworzone_dane)\n",
    "\n",
    "# Inicjalizacja portu szeregowego\n",
    "port = serial.Serial('/dev/ttyUSB0', 9600, timeout=1)\n",
    "\n",
    "# Inicjalizacja kolejki danych\n",
    "kolejka = multiprocessing.Queue()\n",
    "\n",
    "# Proces nasłuchujący dane z portu szeregowego\n",
    "proces_nasluchujacy = multiprocessing.Process(target=odbierz_dane, args=(port, kolejka))\n",
    "proces_nasluchujacy.daemon = True\n",
    "proces_nasluchujacy.start()\n",
    "\n",
    "# Proces przetwarzający dane z kolejki\n",
    "proces_przetwarzajacy = multiprocessing.Process(target=przetwarzaj_dane, args=(kolejka,))\n",
    "proces_przetwarzajacy.daemon = True\n",
    "proces_przetwarzajacy.start()\n",
    "\n",
    "# Główna pętla programu\n",
    "while True:\n",
    "    # Reszta logiki programu\n",
    "    # ...\n",
    "\n",
    "    # Tu możesz wykonywać inne operacje, które nie blokują procesów\n"
   ]
  },
  {
   "attachments": {},
   "cell_type": "markdown",
   "metadata": {},
   "source": [
    "W powyższym przykładzie, proces odbierz_dane() nasłuchuje danych z portu szeregowego i umieszcza je w kolejce kolejka. Główna pętla programu sprawdza, czy kolejka zawiera dane, a następnie przetwarza je w odpowiedni sposób. Reszta logiki programu może być wykonywana w tej pętli, ponieważ oczekiwanie na dane nie blokuje procesu nasłuchującego.\n",
    "\n",
    "Przy użyciu multiprocessing.Queue, procesy mogą bezpiecznie komunikować się ze sobą, przekazując dane między kolejnymi procesami. Jest to sposób na efektywne i równoczesne przetwarzanie danych, eliminujący blokowanie procesów.\n",
    "\n",
    "W tym przykładzie dodano funkcję przetwarzaj_dane(), która jest uruchamiana jako drugi proces. Ta funkcja pobiera dane z kolejki, przetwarza je (w tym przypadku zamienia na wielkie litery) i wyświetla przetworzone dane na konsoli.\n",
    "\n",
    "Proces nasłuchujący (proces_nasluchujacy) jest odpowiedzialny za odbieranie danych z portu szeregowego i umieszczanie ich w kolejce. Proces przetwarzający (proces_przetwarzajacy) pobiera dane z kolejki i wykonuje na nich operacje przetwarzania.\n",
    "\n",
    "W głównej pętli programu można dodawać logikę lub inne operacje, które nie blokują działania procesów. Oba procesy (proces_nasluchujacy i proces_przetwarzajacy) działają równocześnie, a komunikacja między nimi odbywa się poprzez współdzieloną kolejkę kolejka."
   ]
  },
  {
   "attachments": {},
   "cell_type": "markdown",
   "metadata": {},
   "source": [
    "Czy możesz zmodyfikować powyższy program? Chciałbym, żeby jeden proces nasłuchiwał danych z urządzenia w porcie szeregowym, drugi proces przetwarzał dane i wyświetlał je na bieżąco, a trzeci zapisywał do pliku"
   ]
  },
  {
   "cell_type": "code",
   "execution_count": null,
   "metadata": {},
   "outputs": [],
   "source": [
    "import serial\n",
    "import multiprocessing\n",
    "\n",
    "# Funkcja odbierająca dane z portu szeregowego i umieszczająca je w kolejce\n",
    "def odbierz_dane(port, kolejka):\n",
    "    while True:\n",
    "        dane = port.readline().decode().strip()\n",
    "        if dane:\n",
    "            kolejka.put(dane)\n",
    "\n",
    "# Funkcja przetwarzająca dane odebrane z kolejki i wyświetlająca je na bieżąco\n",
    "def przetwarzaj_dane(kolejka):\n",
    "    while True:\n",
    "        if not kolejka.empty():\n",
    "            dane = kolejka.get()\n",
    "            # Tutaj możesz wykonywać przetwarzanie na danych\n",
    "            przetworzone_dane = dane.upper()\n",
    "            print(\"Przetworzone dane:\", przetworzone_dane)\n",
    "\n",
    "# Funkcja zapisująca dane do pliku\n",
    "def zapisz_do_pliku(kolejka):\n",
    "    with open(\"dane.txt\", \"a\") as plik:\n",
    "        while True:\n",
    "            if not kolejka.empty():\n",
    "                dane = kolejka.get()\n",
    "                plik.write(dane + \"\\n\")\n",
    "\n",
    "# Inicjalizacja portu szeregowego\n",
    "port = serial.Serial('/dev/ttyUSB0', 9600, timeout=1)\n",
    "\n",
    "# Inicjalizacja kolejki danych\n",
    "kolejka = multiprocessing.Queue()\n",
    "\n",
    "# Proces nasłuchujący dane z portu szeregowego\n",
    "proces_nasluchujacy = multiprocessing.Process(target=odbierz_dane, args=(port, kolejka))\n",
    "proces_nasluchujacy.daemon = True\n",
    "proces_nasluchujacy.start()\n",
    "\n",
    "# Proces przetwarzający dane z kolejki i wyświetlający je na bieżąco\n",
    "proces_przetwarzajacy = multiprocessing.Process(target=przetwarzaj_dane, args=(kolejka,))\n",
    "proces_przetwarzajacy.daemon = True\n",
    "proces_przetwarzajacy.start()\n",
    "\n",
    "# Proces zapisujący dane do pliku\n",
    "proces_zapisujacy = multiprocessing.Process(target=zapisz_do_pliku, args=(kolejka,))\n",
    "proces_zapisujacy.daemon = True\n",
    "proces_zapisujacy.start()\n",
    "\n",
    "# Główna pętla programu\n",
    "while True:\n",
    "    # Reszta logiki programu\n",
    "    # ...\n",
    "\n",
    "    # Tu możesz wykonywać inne operacje, które nie blokują procesów\n"
   ]
  },
  {
   "attachments": {},
   "cell_type": "markdown",
   "metadata": {},
   "source": [
    "W tym przykładzie dodano trzeci proces proces_zapisujacy, który jest odpowiedzialny za zapisywanie danych z kolejki do pliku \"dane.txt\". Każdy odczytany wiersz jest zapisywany jako osobna linia w pliku.\n",
    "\n",
    "Proces nasłuchujący (proces_nasluchujacy) odbiera dane z portu szeregowego i umieszcza je w kolejce. Proces przetwarzający (proces_przetwarzajacy) przetwarza dane z kolejki i wyświetla je na bieżąco. Proces zapisujący (proces_zapisujacy) zapisuje dane z kolejki do pliku.\n",
    "\n",
    "W głównej pętli programu można dodawać logikę lub inne operacje, które nie blokują działania procesów. Wszystkie"
   ]
  }
 ],
 "metadata": {
  "language_info": {
   "name": "python"
  },
  "orig_nbformat": 4
 },
 "nbformat": 4,
 "nbformat_minor": 2
}
