{
 "cells": [
  {
   "attachments": {},
   "cell_type": "markdown",
   "metadata": {},
   "source": [
    "# Threading\n",
    "\n",
    "Oczywiście! Oto przykład programu w Pythonie, który wykorzystuje bibliotekę pyserial do komunikacji szeregowej z odbiornikiem LoRa, nasłuchuje i odbiera dane przesyłane radiowo, oraz korzysta z buforowania danych:"
   ]
  },
  {
   "cell_type": "code",
   "execution_count": null,
   "metadata": {},
   "outputs": [],
   "source": [
    "import serial\n",
    "import threading\n",
    "\n",
    "# Inicjalizacja portu szeregowego\n",
    "port = serial.Serial('/dev/ttyUSB0', 9600, timeout=1)\n",
    "\n",
    "# Inicjalizacja bufora danych\n",
    "buffer = []\n",
    "\n",
    "# Funkcja odbierająca dane z portu szeregowego i dodająca je do bufora\n",
    "def odbierz_dane():\n",
    "    while True:\n",
    "        dane = port.readline().decode().strip()\n",
    "        if dane:\n",
    "            buffer.append(dane)\n",
    "\n",
    "# Funkcja przetwarzająca i usuwająca dane z bufora\n",
    "def przetworz_dane():\n",
    "    while True:\n",
    "        if len(buffer) > 0:\n",
    "            dane = buffer.pop(0)\n",
    "            # Tutaj wykonaj przetwarzanie na danych\n",
    "            print(\"Przetworzone dane:\", dane)\n",
    "\n",
    "# Uruchomienie wątku nasłuchującego na porcie szeregowym\n",
    "odbieranie_watek = threading.Thread(target=odbierz_dane)\n",
    "odbieranie_watek.daemon = True\n",
    "odbieranie_watek.start()\n",
    "\n",
    "# Uruchomienie wątku przetwarzającego dane z bufora\n",
    "przetwarzanie_watek = threading.Thread(target=przetworz_dane)\n",
    "przetwarzanie_watek.daemon = True\n",
    "przetwarzanie_watek.start()\n",
    "\n",
    "# Główna pętla programu (można dodać logikę sterującą)\n",
    "while True:\n",
    "    pass"
   ]
  },
  {
   "attachments": {},
   "cell_type": "markdown",
   "metadata": {},
   "source": [
    "W powyższym przykładzie otwieramy port szeregowy za pomocą biblioteki `pyserial`, a następnie inicjalizujemy dwa wątki: jeden do odbierania danych z portu szeregowego i dodawania ich do bufora, a drugi do przetwarzania danych z bufora. Obie operacje odbywają się równolegle i nie blokują programu.\n",
    "\n",
    "W wątku `odbierz_dane()` używamy metody `readline()` do odczytu danych z portu szeregowego, a następnie dodajemy otrzymane dane do bufora. W wątku `przetworz_dane()` sprawdzamy, czy bufor zawiera dane, a następnie pobieramy i przetwarzamy je.\n",
    "\n",
    "Główna pętla programu (`while True`) utrzymuje program w działaniu, ale można dodać logikę sterującą w tej pętli w zależności od potrzeb.\n",
    "\n",
    "Pamiętaj, że w powyższym przykładzie użyłem `/dev/ttyUSB0` jako przykładowej ścieżki portu szeregowego. Upewnij się, że dostosowujesz tę ścieżkę do rzeczywistego portu szeregowego na twoim systemie."
   ]
  }
 ],
 "metadata": {
  "language_info": {
   "name": "python"
  },
  "orig_nbformat": 4
 },
 "nbformat": 4,
 "nbformat_minor": 2
}
