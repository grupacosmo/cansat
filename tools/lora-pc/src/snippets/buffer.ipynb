{
 "cells": [
  {
   "attachments": {},
   "cell_type": "markdown",
   "metadata": {},
   "source": [
    "Buforowanie danych oznacza przechowywanie danych w pamięci tymczasowej (buforze) przed ich dalszym przetworzeniem lub odczytem. Jest to przydatna technika, która pozwala na gromadzenie danych w pamięci, zanim zostaną one przekazane lub przetworzone przez program.\n",
    "\n",
    "W Pythonie 3 możesz użyć różnych struktur danych, takich jak lista, kolejka (queue) lub bufor (buffer), do buforowania danych. Oto prosty przykład buforowania danych w Pythonie 3 za pomocą listy:"
   ]
  },
  {
   "cell_type": "code",
   "execution_count": null,
   "metadata": {},
   "outputs": [],
   "source": [
    "# Inicjalizacja pustej listy jako bufora\n",
    "buffer = []\n",
    "\n",
    "# Funkcja odbierająca dane z portu szeregowego i dodająca je do bufora\n",
    "def odbierz_dane(dane):\n",
    "    buffer.append(dane)\n",
    "\n",
    "# Funkcja przetwarzająca i usuwająca dane z bufora\n",
    "def przetworz_dane():\n",
    "    if len(buffer) > 0:\n",
    "        dane = buffer.pop(0)\n",
    "        # Tutaj wykonaj przetwarzanie na danych\n",
    "        print(\"Przetworzone dane:\", dane)\n",
    "\n",
    "# Przykładowe dane otrzymane z portu szeregowego\n",
    "odbierz_dane(\"Dane 1\")\n",
    "odbierz_dane(\"Dane 2\")\n",
    "odbierz_dane(\"Dane 3\")\n",
    "\n",
    "# Przetwarzanie danych z bufora\n",
    "przetworz_dane()  # Wyświetli \"Przetworzone dane: Dane 1\"\n",
    "przetworz_dane()  # Wyświetli \"Przetworzone dane: Dane 2\"\n",
    "\n",
    "# Przykładowe dane otrzymane po pewnym czasie\n",
    "odbierz_dane(\"Dane 4\")\n",
    "\n",
    "# Przetwarzanie danych z bufora\n",
    "przetworz_dane()  # Wyświetli \"Przetworzone dane: Dane 3\"\n",
    "przetworz_dane()  # Wyświetli \"Przetworzone dane: Dane 4\"\n"
   ]
  },
  {
   "attachments": {},
   "cell_type": "markdown",
   "metadata": {},
   "source": [
    "W powyższym przykładzie mamy listę buffer, która służy jako bufor do przechowywania otrzymanych danych z portu szeregowego. Funkcja odbierz_dane() dodaje otrzymane dane do bufora, a funkcja przetworz_dane() pobiera dane z bufora, przetwarza je (w tym przypadku wyświetla na konsoli) i usuwa je z bufora. Możesz dowolnie rozszerzać funkcje odbierające i przetwarzające dane w zależności od swoich potrzeb.\n",
    "\n",
    "Dzięki buforowaniu danych możesz gromadzić dane w pamięci tymczasowej, zanim zostaną one przetworzone lub użyte w dalszej części programu. Jest to przydatne, gdy dane są odbierane w różnych momentach lub gdy przetwarzanie danych wymaga pewnej logiki lub sekwencji operacji."
   ]
  }
 ],
 "metadata": {
  "language_info": {
   "name": "python"
  },
  "orig_nbformat": 4
 },
 "nbformat": 4,
 "nbformat_minor": 2
}
