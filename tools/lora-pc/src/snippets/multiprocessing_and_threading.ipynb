{
 "cells": [
  {
   "attachments": {},
   "cell_type": "markdown",
   "metadata": {},
   "source": [
    "Czy uważasz, że trzeci proces zapisujący dane jest zbędny i może zostać zastąpiony threading, tak żeby istniały dwa procesy: jeden nasłuchujący, drugi przetwarzający i zapisujący, gdzie przetwarzanie i zapisywanie działają na osobnych wątkach, aby nie blokować się wzajemnie? Czy lepiej wykorzystać trzy procesy tak jak w powyższym przykładzie?"
   ]
  },
  {
   "attachments": {},
   "cell_type": "markdown",
   "metadata": {},
   "source": [
    "Oba podejścia mają swoje zalety i zależą od konkretnej sytuacji. Oto krótkie porównanie:\n",
    "\n",
    "Wykorzystanie trzech procesów:\n",
    "\n",
    "Zalety:\n",
    "Każdy proces działa niezależnie od siebie, co oznacza, że przetwarzanie danych i zapisywanie ich do pliku nie blokują procesu nasłuchującego.\n",
    "Procesy mogą wykorzystywać pełne korzyści z wielowątkowości dostępnej w ramach multiprocessing, tak jak w przykładzie z poprzedniej odpowiedzi.\n",
    "Wady:\n",
    "Istnieje dodatkowy narzut związany z komunikacją międzyprocesową poprzez kolejki, co może wpływać na wydajność w przypadku dużych ilości danych.\n",
    "Wykorzystanie dwóch procesów i wątków:\n",
    "\n",
    "Zalety:\n",
    "Zmniejszony narzut komunikacji międzyprocesowej, ponieważ przetwarzanie danych i zapisywanie do pliku odbywają się w ramach jednego procesu.\n",
    "Wykorzystanie wielowątkowości w ramach jednego procesu, co może być wydajne dla operacji przetwarzania danych i zapisywania ich do pliku.\n",
    "Wady:\n",
    "Konieczność użycia modułu threading zamiast multiprocessing. Może to wymagać dodatkowych zabiegów, takich jak odpowiednia synchronizacja wątków.\n",
    "W przypadku dużych obciążeń obliczeniowych lub zapisu do pliku, może wystąpić blokowanie jednego wątku przez drugi, co wpływa na wydajność.\n",
    "Ostateczny wybór zależy od specyfiki Twojego programu, wymagań wydajnościowych i preferencji. Jeśli oczekujesz dużej ilości danych lub potrzebujesz maksymalnej niezależności między procesami, trzy procesy mogą być lepszym rozwiązaniem. Jeśli jednak zależy Ci na zminimalizowaniu komunikacji międzyprocesowej i wykorzystaniu wielowątkowości w ramach jednego procesu, dwie osiowe i wątki mogą być bardziej odpowiednie."
   ]
  },
  {
   "cell_type": "code",
   "execution_count": null,
   "metadata": {},
   "outputs": [],
   "source": [
    "import serial\n",
    "import multiprocessing\n",
    "import threading\n",
    "\n",
    "# Funkcja odbierająca dane z portu szeregowego i umieszczająca je w kolejce\n",
    "def odbierz_dane(port, kolejka):\n",
    "    while True:\n",
    "        dane = port.readline().decode().strip()\n",
    "        if dane:\n",
    "            kolejka.put(dane)\n",
    "\n",
    "# Funkcja przetwarzająca dane odebrane z kolejki i wyświetlająca je na bieżąco\n",
    "def przetwarzaj_dane(kolejka):\n",
    "    def zapisz_do_pliku():\n",
    "        with open(\"dane.txt\", \"a\") as plik:\n",
    "            while True:\n",
    "                if not kolejka.empty():\n",
    "                    dane = kolejka.get()\n",
    "                    plik.write(dane + \"\\n\")\n",
    "\n",
    "    # Inicjalizacja wątku zapisującego dane do pliku\n",
    "    watek_zapisujacy = threading.Thread(target=zapisz_do_pliku)\n",
    "    watek_zapisujacy.daemon = True\n",
    "    watek_zapisujacy.start()\n",
    "\n",
    "    while True:\n",
    "        if not kolejka.empty():\n",
    "            dane = kolejka.get()\n",
    "            # Tutaj możesz wykonywać przetwarzanie na danych\n",
    "            przetworzone_dane = dane.upper()\n",
    "            print(\"Przetworzone dane:\", przetworzone_dane)\n",
    "\n",
    "# Inicjalizacja portu szeregowego\n",
    "port = serial.Serial('/dev/ttyUSB0', 9600, timeout=1)\n",
    "\n",
    "# Inicjalizacja kolejki danych\n",
    "kolejka = multiprocessing.Queue()\n",
    "\n",
    "# Proces nasłuchujący dane z portu szeregowego\n",
    "proces_nasluchujacy = multiprocessing.Process(target=odbierz_dane, args=(port, kolejka))\n",
    "proces_nasluchujacy.daemon = True\n",
    "proces_nasluchujacy.start()\n",
    "\n",
    "# Proces przetwarzający dane z kolejki\n",
    "proces_przetwarzajacy = multiprocessing.Process(target=przetwarzaj_dane, args=(kolejka,))\n",
    "proces_przetwarzajacy.daemon = True\n",
    "proces_przetwarzajacy.start()\n",
    "\n",
    "# Główna pętla programu\n",
    "while True:\n",
    "    # Reszta logiki programu\n",
    "    # ...\n",
    "\n",
    "    # Tu możesz wykonywać inne operacje, które nie blokują procesów\n"
   ]
  },
  {
   "attachments": {},
   "cell_type": "markdown",
   "metadata": {},
   "source": [
    "W tym przykładzie wykorzystuję moduły multiprocessing i threading do uruchomienia dwóch procesów oraz jednego wątku. Proces proces_nasluchujacy odpowiada za nasłuchiwanie danych z portu szeregowego i umieszczanie ich w kolejce. Proces proces_przetwarzajacy przetwarza dane z kolejki i wyświetla je na bieżąco. Wątek watek_zapisujacy zapisuje dane z kolejki do pliku.\n",
    "\n",
    "W głównej pętli programu można dodawać logikę lub inne operacje, które nie blokują działania procesów i wątków\n",
    "\n",
    "W tym poprawionym przykładzie wątek watek_zapisujacy został przeniesiony do funkcji przetwarzaj_dane, która jest wywoływana w drugim procesie proces_przetwarzajacy. Teraz proces przetwarzający będzie zarówno przetwarzał dane, jak i zapisywał je do pliku poprzez wątek.\n",
    "\n",
    "Przepraszam za niejasność i mam nadzieję, że ten przykład spełnia Twoje oczekiwania."
   ]
  }
 ],
 "metadata": {
  "language_info": {
   "name": "python"
  },
  "orig_nbformat": 4
 },
 "nbformat": 4,
 "nbformat_minor": 2
}
